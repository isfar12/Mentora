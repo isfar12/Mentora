{
 "cells": [
  {
   "cell_type": "code",
   "execution_count": null,
   "id": "766eafb7",
   "metadata": {},
   "outputs": [],
   "source": [
    "from langchain_community.utilities.sql_database import SQLDatabase\n",
    "\n",
    "db_user=\"root\"\n",
    "db_password=\"\"\n",
    "db_host=\"localhost\"\n",
    "db_port=3306\n",
    "db_name=\"langchain_db\"\n",
    "db = SQLDatabase.from_uri(f\"mysql+pymysql://{db_user}:{db_password}@{db_host}:{db_port}/{db_name}\")\n"
   ]
  },
  {
   "cell_type": "code",
   "execution_count": 8,
   "id": "2ebab0b0",
   "metadata": {},
   "outputs": [
    {
     "name": "stdout",
     "output_type": "stream",
     "text": [
      "\n",
      "CREATE TABLE table_1 (\n",
      "\tid INTEGER(11) NOT NULL, \n",
      "\tname VARCHAR(300) NOT NULL, \n",
      "\tage INTEGER(11) NOT NULL, \n",
      "\tsalary INTEGER(11) NOT NULL, \n",
      "\tPRIMARY KEY (id)\n",
      ")ENGINE=InnoDB COLLATE utf8mb4_general_ci DEFAULT CHARSET=utf8mb4\n",
      "\n",
      "/*\n",
      "3 rows from table_1 table:\n",
      "id\tname\tage\tsalary\n",
      "1\tZubayer Isfar\t23\t100000\n",
      "2\tTariq Zabir\t20\t50000\n",
      "3\tMahir \t22\t70000\n",
      "*/\n",
      "mysql\n",
      "['table_1']\n"
     ]
    }
   ],
   "source": [
    "print(db.table_info)\n",
    "print(db.dialect)\n",
    "print(db.get_usable_table_names())"
   ]
  },
  {
   "cell_type": "code",
   "execution_count": 9,
   "id": "e0de8e35",
   "metadata": {},
   "outputs": [
    {
     "data": {
      "text/plain": [
       "RunnableAssign(mapper={\n",
       "  input: RunnableLambda(...),\n",
       "  table_info: RunnableLambda(...)\n",
       "})\n",
       "| RunnableLambda(lambda x: {k: v for k, v in x.items() if k not in ('question', 'table_names_to_use')})\n",
       "| PromptTemplate(input_variables=['input', 'table_info'], input_types={}, partial_variables={'top_k': '5'}, template='You are a MySQL expert. Given an input question, first create a syntactically correct MySQL query to run, then look at the results of the query and return the answer to the input question.\\nUnless the user specifies in the question a specific number of examples to obtain, query for at most {top_k} results using the LIMIT clause as per MySQL. You can order the results to return the most informative data in the database.\\nNever query for all columns from a table. You must query only the columns that are needed to answer the question. Wrap each column name in backticks (`) to denote them as delimited identifiers.\\nPay attention to use only the column names you can see in the tables below. Be careful to not query for columns that do not exist. Also, pay attention to which column is in which table.\\nPay attention to use CURDATE() function to get the current date, if the question involves \"today\".\\n\\nUse the following format:\\n\\nQuestion: Question here\\nSQLQuery: SQL Query to run\\nSQLResult: Result of the SQLQuery\\nAnswer: Final answer here\\n\\nOnly use the following tables:\\n{table_info}\\n\\nQuestion: {input}')\n",
       "| RunnableBinding(bound=ChatOllama(model='gemma3:1b', temperature=0.4), kwargs={'stop': ['\\nSQLResult:']}, config={}, config_factories=[])\n",
       "| StrOutputParser()\n",
       "| RunnableLambda(_strip)"
      ]
     },
     "execution_count": 9,
     "metadata": {},
     "output_type": "execute_result"
    }
   ],
   "source": [
    "from langchain.chains import create_sql_query_chain\n",
    "from langchain_ollama import ChatOllama\n",
    "\n",
    "model=ChatOllama(\n",
    "    model=\"gemma3:1b\",\n",
    "    temperature=0.4,\n",
    ")\n",
    "\n",
    "\n",
    "query_generate=create_sql_query_chain(model,db)\n",
    "query_generate"
   ]
  },
  {
   "cell_type": "code",
   "execution_count": 16,
   "id": "a9a9ca36",
   "metadata": {},
   "outputs": [
    {
     "data": {
      "text/plain": [
       "'```sql\\nSELECT age FROM table_1 WHERE age > 20\\n```'"
      ]
     },
     "execution_count": 16,
     "metadata": {},
     "output_type": "execute_result"
    }
   ],
   "source": [
    "query_generator=query_generate.invoke({\n",
    "    \"question\": \"Which age are more than 20?\"\n",
    "})\n",
    "query_generator"
   ]
  },
  {
   "cell_type": "code",
   "execution_count": null,
   "id": "95892b9f",
   "metadata": {},
   "outputs": [
    {
     "data": {
      "text/plain": [
       "\"[('Zubayer Isfar',), ('Mahir ',)]\""
      ]
     },
     "execution_count": 24,
     "metadata": {},
     "output_type": "execute_result"
    }
   ],
   "source": [
    "from langchain_community.tools import QuerySQLDataBaseTool\n",
    "\n",
    "query_executor = QuerySQLDataBaseTool(db=db)\n",
    "\n",
    "full_chain = query_generate | query_executor\n",
    "\n",
    "full_chain.invoke({\n",
    "    \"question\": \"What are the names of those who are more than 20 in age?\"\n",
    "})"
   ]
  },
  {
   "cell_type": "code",
   "execution_count": null,
   "id": "0d052955",
   "metadata": {},
   "outputs": [],
   "source": []
  }
 ],
 "metadata": {
  "kernelspec": {
   "display_name": "Python 3",
   "language": "python",
   "name": "python3"
  },
  "language_info": {
   "codemirror_mode": {
    "name": "ipython",
    "version": 3
   },
   "file_extension": ".py",
   "mimetype": "text/x-python",
   "name": "python",
   "nbconvert_exporter": "python",
   "pygments_lexer": "ipython3",
   "version": "3.11.8"
  }
 },
 "nbformat": 4,
 "nbformat_minor": 5
}
